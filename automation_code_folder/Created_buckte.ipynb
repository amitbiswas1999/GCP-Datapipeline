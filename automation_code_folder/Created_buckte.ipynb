{
 "cells": [
  {
   "cell_type": "code",
   "execution_count": 13,
   "id": "922b2578",
   "metadata": {},
   "outputs": [],
   "source": [
    "import os\n",
    "import gspread\n",
    "import pandas as pd\n",
    "PATH=os.path.join(os.getcwd(),'master-shell-352711-035a6f0dc8c6.json')\n",
    "os.environ[\"GOOGLE_APPLICATION_CREDENTIALS\"]=PATH\n",
    "\n",
    "cred_file = \"master-shell-352711-9f095697259f.json\""
   ]
  },
  {
   "cell_type": "markdown",
   "id": "aa27b84e",
   "metadata": {},
   "source": [
    "#  Create buckets"
   ]
  },
  {
   "cell_type": "code",
   "execution_count": 14,
   "id": "900304b7",
   "metadata": {},
   "outputs": [
    {
     "name": "stdout",
     "output_type": "stream",
     "text": [
      "Created bucket successfully fifaworldcup2022 in location US\n"
     ]
    }
   ],
   "source": [
    "from google.cloud import storage\n",
    "\n",
    "\n",
    "\n",
    "def content_details():\n",
    "    gc = gspread.service_account(cred_file )\n",
    "    database = gc.open(\"Content_details\")\n",
    "    wks = database.worksheet(\"Sheet1\")\n",
    "    data = pd.DataFrame(wks.get_all_records())\n",
    "    content_name=data['Content_name'].to_list()\n",
    "    return content_name\n",
    "\n",
    "def create_bucket(bucket_name):\n",
    "    storage_client = storage.Client()\n",
    "    bucket = storage_client.bucket(bucket_name)\n",
    "    bucket.storage_class = \"STANDARD\"\n",
    "    new_bucket = storage_client.create_bucket(bucket, location=\"us\")\n",
    "\n",
    "    print(\n",
    "      \"Created bucket successfully {} in location {}\".format(\n",
    "          new_bucket.name, new_bucket.location\n",
    "      )\n",
    "    )\n",
    "    return new_bucket\n",
    "\n",
    "if __name__ == '__main__':\n",
    "    content_name=content_details()\n",
    "    new_bucket=create_bucket(\"fifaworldcup2022\")"
   ]
  }
 ],
 "metadata": {
  "kernelspec": {
   "display_name": "Python 3 (ipykernel)",
   "language": "python",
   "name": "python3"
  },
  "language_info": {
   "codemirror_mode": {
    "name": "ipython",
    "version": 3
   },
   "file_extension": ".py",
   "mimetype": "text/x-python",
   "name": "python",
   "nbconvert_exporter": "python",
   "pygments_lexer": "ipython3",
   "version": "3.9.13"
  }
 },
 "nbformat": 4,
 "nbformat_minor": 5
}
